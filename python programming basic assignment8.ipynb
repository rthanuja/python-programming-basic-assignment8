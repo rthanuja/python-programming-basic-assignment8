{
 "cells": [
  {
   "cell_type": "code",
   "execution_count": 1,
   "id": "3928bdfa",
   "metadata": {},
   "outputs": [
    {
     "name": "stdout",
     "output_type": "stream",
     "text": [
      "after adding 2 matrices:\n",
      " [[ 8 10 12]\n",
      " [ 8 10 12]\n",
      " [ 8 10 12]]\n"
     ]
    }
   ],
   "source": [
    "#1. Write a Python Program to Add Two Matrices?\n",
    "import numpy as np\n",
    "m1=np.array([[1,2,3],[4,5,6],[7,8,9]])\n",
    "m2=np.array([[7,8,9],[4,5,6],[1,2,3]])\n",
    "m=np.add(m1,m2)\n",
    "print(\"after adding 2 matrices:\\n\",m)\n"
   ]
  },
  {
   "cell_type": "code",
   "execution_count": 2,
   "id": "9f16caa5",
   "metadata": {},
   "outputs": [
    {
     "name": "stdout",
     "output_type": "stream",
     "text": [
      "after multiplying 2 matrices:\n",
      " [[ 18  24  30]\n",
      " [ 54  69  84]\n",
      " [ 90 114 138]]\n"
     ]
    }
   ],
   "source": [
    "#2. Write a Python Program to Multiply Two Matrices?\n",
    "import numpy as np\n",
    "m1=np.array([[1,2,3],[4,5,6],[7,8,9]])\n",
    "m2=np.array([[7,8,9],[4,5,6],[1,2,3]])\n",
    "m=np.dot(m1,m2)\n",
    "print(\"after multiplying 2 matrices:\\n\",m)\n"
   ]
  },
  {
   "cell_type": "code",
   "execution_count": 3,
   "id": "7d22e7cb",
   "metadata": {},
   "outputs": [
    {
     "name": "stdout",
     "output_type": "stream",
     "text": [
      "transpose of matrix:\n",
      " [[1 4 7]\n",
      " [2 5 8]\n",
      " [3 6 9]]\n"
     ]
    }
   ],
   "source": [
    "#3. Write a Python Program to Transpose a Matrix?\n",
    "import numpy as np\n",
    "m1=np.array([[1,2,3],[4,5,6],[7,8,9]])\n",
    "print(\"transpose of matrix:\\n\",m1.T)"
   ]
  },
  {
   "cell_type": "code",
   "execution_count": 4,
   "id": "f7ce289e",
   "metadata": {},
   "outputs": [
    {
     "name": "stdout",
     "output_type": "stream",
     "text": [
      "enter the words: data science course machine learning\n",
      "words after sorting in aplhabetical order\n",
      " ['course', 'data', 'learning', 'machine', 'science']\n"
     ]
    }
   ],
   "source": [
    "#4. Write a Python Program to Sort Words in Alphabetic Order?\n",
    "l=list(map(str,input(\"enter the words: \").split()))\n",
    "l.sort()\n",
    "print(\"words after sorting in aplhabetical order\\n\",l)"
   ]
  },
  {
   "cell_type": "code",
   "execution_count": 5,
   "id": "a7f7fbc5",
   "metadata": {},
   "outputs": [
    {
     "name": "stdout",
     "output_type": "stream",
     "text": [
      "enter the string:\n",
      " hello!!! world???---\n",
      "string after removing punctuations:\n",
      " hello world\n"
     ]
    }
   ],
   "source": [
    "#5. Write a Python Program to Remove Punctuation From a String?\n",
    "s=input(\"enter the string:\\n \")\n",
    "r=\"\"\n",
    "for i in s:\n",
    "    if i.isalpha() or i.isdigit() or i==\" \":\n",
    "        r+=i\n",
    "    else:\n",
    "        continue\n",
    "print(\"string after removing punctuations:\\n\",r)"
   ]
  }
 ],
 "metadata": {
  "kernelspec": {
   "display_name": "Python 3 (ipykernel)",
   "language": "python",
   "name": "python3"
  },
  "language_info": {
   "codemirror_mode": {
    "name": "ipython",
    "version": 3
   },
   "file_extension": ".py",
   "mimetype": "text/x-python",
   "name": "python",
   "nbconvert_exporter": "python",
   "pygments_lexer": "ipython3",
   "version": "3.10.9"
  }
 },
 "nbformat": 4,
 "nbformat_minor": 5
}
